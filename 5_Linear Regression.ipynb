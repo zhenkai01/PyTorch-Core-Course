{
 "cells": [
  {
   "cell_type": "markdown",
   "id": "753466d0-599a-4e0a-867f-ebe5d31d0271",
   "metadata": {},
   "source": [
    "线性回归是最基本的机器学习算法之一，用于预测一个连续值。\n",
    "\n",
    "线性回归是一种简单且常见的回归分析方法，目的是通过拟合一个线性函数来预测输出。\n",
    "\n",
    "对于一个简单的线性回归问题:  $y=w_1x_1+w_2x_2+...+w_nx_n+b$"
   ]
  },
  {
   "cell_type": "code",
   "execution_count": 2,
   "id": "66ebbf65-1c04-43b1-8c7a-3d308e36799a",
   "metadata": {},
   "outputs": [],
   "source": [
    "%matplotlib inline"
   ]
  },
  {
   "cell_type": "code",
   "execution_count": 3,
   "id": "8c59c7c1-a7be-4ce7-94eb-e73854b5252c",
   "metadata": {},
   "outputs": [],
   "source": [
    "# 我们首先准备一些假数据，用于训练我们的线性回归模型。这里，我们可以生成一个简单的线性关系的数据集，其中每个样本有两个特征 x1，x2\n",
    "import torch\n",
    "import numpy as np\n",
    "import matplotlib.pyplot as plt"
   ]
  },
  {
   "cell_type": "code",
   "execution_count": 25,
   "id": "66dee570-6e9c-4169-bf65-94a50e64648c",
   "metadata": {},
   "outputs": [],
   "source": [
    "# 本行代码确保matplotlib能在jupyter notebook 中正常运行，notebook有时候会发生kernel崩溃\n",
    "import os\n",
    "os.environ['KMP_DUPLICATE_LIB_OK']='TRUE'"
   ]
  },
  {
   "cell_type": "code",
   "execution_count": 5,
   "id": "e2a59520-d791-4a82-8a09-08f4e786505d",
   "metadata": {},
   "outputs": [
    {
     "name": "stdout",
     "output_type": "stream",
     "text": [
      "tensor([[ 0.2142, -0.1434],\n",
      "        [-0.2636,  1.2033],\n",
      "        [ 1.0941,  0.7960],\n",
      "        [ 0.0044, -1.5482],\n",
      "        [-1.1537, -0.1612]])\n",
      "tensor([ 3.9935,  7.0707,  8.5842, -0.6329,  1.1973])\n"
     ]
    }
   ],
   "source": [
    "# 随机种子，确保每次运行结果一致\n",
    "torch.manual_seed(66)\n",
    "\n",
    "# 生成训练数据\n",
    "# 创建了一个带有噪声的线性数据集，输入 X 为 100x2 的矩阵，每个样本有两个特征，输出 Y 由真实的权重和偏置生成，并加上了一些随机噪声。\n",
    "X = torch.randn(100, 2)\n",
    "true_w = torch.tensor([2.0, 3.0])\n",
    "true_b = 4\n",
    "Y = X @ true_w + true_b + torch.randn(100) * .01 #加入一些随机噪声\n",
    "\n",
    "print(X[:5])\n",
    "print(Y[:5])"
   ]
  },
  {
   "cell_type": "code",
   "execution_count": 6,
   "id": "cec7b230-e46d-4408-ab6b-706ce11d3627",
   "metadata": {},
   "outputs": [],
   "source": [
    "# 通过继承 nn.Module 来定义一个简单的线性回归模型。在 PyTorch 中，线性回归的核心是 nn.Linear() 层，它会自动处理权重和偏置的初始化。\n",
    "import torch.nn as nn\n",
    "\n",
    "# 定义线性回归模型\n",
    "class LinearRegression(nn.Module):\n",
    "    def __init__(self):\n",
    "        super(LinearRegression, self).__init__()\n",
    "        self.linear = nn.Linear(2,1)\n",
    "    def forward(self, x):\n",
    "        return self.linear(x)\n",
    "\n",
    "model = LinearRegression()"
   ]
  },
  {
   "cell_type": "code",
   "execution_count": 7,
   "id": "a2b46133-81f7-45f2-8455-dfc9970c072e",
   "metadata": {},
   "outputs": [],
   "source": [
    "# 定义损失函数和优化器\n",
    "loss_fn = nn.MSELoss()\n",
    "\n",
    "optimizer = torch.optim.SGD(model.parameters(), lr=1e-3)"
   ]
  },
  {
   "cell_type": "code",
   "execution_count": 8,
   "id": "7131bf13-1e25-4b03-8ab0-877f9153b222",
   "metadata": {},
   "outputs": [
    {
     "name": "stdout",
     "output_type": "stream",
     "text": [
      "Epoch [100/1000], Loss:21.7908\n",
      "Epoch [200/1000], Loss:14.0962\n",
      "Epoch [300/1000], Loss:9.1520\n",
      "Epoch [400/1000], Loss:5.9626\n",
      "Epoch [500/1000], Loss:3.8972\n",
      "Epoch [600/1000], Loss:2.5551\n",
      "Epoch [700/1000], Loss:1.6799\n",
      "Epoch [800/1000], Loss:1.1074\n",
      "Epoch [900/1000], Loss:0.7318\n",
      "Epoch [1000/1000], Loss:0.4847\n"
     ]
    }
   ],
   "source": [
    "# # 训练模型\n",
    "\n",
    "# 在训练过程中，我们将执行以下步骤：\n",
    "# 使用输入数据 X 进行前向传播，得到预测值。\n",
    "# 计算损失（预测值与实际值之间的差异）。\n",
    "# 使用反向传播计算梯度。\n",
    "# 更新模型参数（权重和偏置）。\n",
    "# 我们将训练模型 1000 轮，并在每 100 轮打印一次损失。\n",
    "\n",
    "num_epochs = 1000\n",
    "for epoch in range(num_epochs):\n",
    "    model.train()\n",
    "\n",
    "    #前向传播\n",
    "    predictions = model(X)\n",
    "    loss = loss_fn(predictions.squeeze(), Y)\n",
    "\n",
    "    # 反向传播\n",
    "    optimizer.zero_grad() #清空之前梯度\n",
    "    loss.backward()  #计算梯度\n",
    "    optimizer.step()  #更新模型参数\n",
    "\n",
    "    #打印损失\n",
    "    if (epoch + 1) % 100 == 0:\n",
    "        print(f'Epoch [{epoch+1}/1000], Loss:{loss.item():.4f}')"
   ]
  },
  {
   "cell_type": "code",
   "execution_count": 9,
   "id": "1c61cc1f-938c-4db8-93f4-5b3c44dc6eca",
   "metadata": {},
   "outputs": [
    {
     "name": "stdout",
     "output_type": "stream",
     "text": [
      "Predicted weight: [[1.9024646 2.6901088]]\n",
      "Predicted bias: [3.3914964]\n"
     ]
    }
   ],
   "source": [
    "# 评估模型\n",
    "# 训练完成后，我们可以通过查看模型的权重和偏置来评估模型的效果。我们还可以在新的数据上进行预测并与实际值进行比较。\n",
    "\n",
    "# 查看训练后的权重和偏置\n",
    "print(f'Predicted weight: {model.linear.weight.data.numpy()}')\n",
    "print(f'Predicted bias: {model.linear.bias.data.numpy()}')"
   ]
  },
  {
   "cell_type": "code",
   "execution_count": 10,
   "id": "5dab0102-14e6-4b26-b6a0-8679bb3bf0f5",
   "metadata": {},
   "outputs": [],
   "source": [
    "# 在新数据上做预测\n",
    "with torch.no_grad():  # 评估时不需要计算梯度\n",
    "    predictions = model(X)"
   ]
  },
  {
   "cell_type": "code",
   "execution_count": 11,
   "id": "586d3d05-b2ab-4611-9d1c-44df7b879e5e",
   "metadata": {},
   "outputs": [
    {
     "data": {
      "image/png": "[encoded data removed]",
      "text/plain": [
       "<Figure size 640x480 with 1 Axes>"
      ]
     },
     "metadata": {},
     "output_type": "display_data"
    }
   ],
   "source": [
    "# 可视化预测与实际值\n",
    "plt.scatter(X[:, 0], Y, color='blue', label='True values')\n",
    "plt.scatter(X[:, 0], predictions, color='red', label='Predictions')\n",
    "plt.legend()\n",
    "plt.show()"
   ]
  },
  {
   "cell_type": "code",
   "execution_count": 12,
   "id": "c22ce15a-19da-4df3-bfbf-b00415cdddc1",
   "metadata": {},
   "outputs": [
    {
     "name": "stdout",
     "output_type": "stream",
     "text": [
      "当前内存使用情况: 358.16796875 MB\n"
     ]
    }
   ],
   "source": [
    "# 检查内存使用情况\n",
    "import psutil\n",
    "process = psutil.Process()\n",
    "print(f\"当前内存使用情况: {process.memory_info().rss / (1024 * 1024)} MB\")"
   ]
  },
  {
   "cell_type": "code",
   "execution_count": null,
   "id": "00f3b30b-d2aa-4341-9f0e-25a06a053674",
   "metadata": {},
   "outputs": [],
   "source": []
  }
 ],
 "metadata": {
  "kernelspec": {
   "display_name": "Python [conda env:base] *",
   "language": "python",
   "name": "conda-base-py"
  },
  "language_info": {
   "codemirror_mode": {
    "name": "ipython",
    "version": 3
   },
   "file_extension": ".py",
   "mimetype": "text/x-python",
   "name": "python",
   "nbconvert_exporter": "python",
   "pygments_lexer": "ipython3",
   "version": "3.12.7"
  }
 },
 "nbformat": 4,
 "nbformat_minor": 5
}
