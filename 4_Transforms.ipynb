{
 "cells": [
  {
   "cell_type": "code",
   "execution_count": 1,
   "id": "d389032c-a590-4318-9d7b-941f54e1849b",
   "metadata": {},
   "outputs": [],
   "source": [
    "# 本行代码确保matplotlib能在jupyter notebook 中正常运行，notebook有时候会发生kernel崩溃\n",
    "import os\n",
    "os.environ['KMP_DUPLICATE_LIB_OK']='TRUE'"
   ]
  },
  {
   "cell_type": "code",
   "execution_count": 3,
   "id": "4897417b-ac00-4310-86c3-27c8391f34d9",
   "metadata": {},
   "outputs": [],
   "source": [
    "%matplotlib inline"
   ]
  },
  {
   "cell_type": "markdown",
   "id": "47c39e89-e55c-4085-993e-fcc7b284f5b2",
   "metadata": {},
   "source": [
    "数据并不总是以训练机器学习算法所需的最终处理形式出现。我们使用转换对数据进行一些作，使其适合训练\n",
    "\n",
    "所有 TorchVision 数据集都有两个参数```transform``` 修改特征和 ```target_transform``` 修改标签 - 接受包含转换逻辑的可调用对象。torchvision.transforms 模块提供了几种开箱即用的常用转换。\n",
    "\n",
    "FashionMNIST 特征采用 PIL 图像格式，标签为整数。对于训练，我们需要特征作为归一化张量，并将标签作为独热编码张量。为了进行这些转换，我们使用 ```ToTensor``` 和``` Lambda```。"
   ]
  },
  {
   "cell_type": "code",
   "execution_count": 6,
   "id": "218172c8-2fd9-44d3-844a-1795e8cf79fd",
   "metadata": {},
   "outputs": [],
   "source": [
    "import torch\n",
    "from torchvision import datasets\n",
    "from torchvision.transforms import ToTensor, Lambda\n",
    "\n",
    "ds = datasets.FashionMNIST(\n",
    "    root=\"data\",\n",
    "    train=True,\n",
    "    download=True,\n",
    "    transform=ToTensor(),\n",
    "    target_transform=Lambda(lambda y: torch.zeros(10, dtype=torch.float).scatter_(0, torch.tensor(y), value=1))\n",
    ")"
   ]
  },
  {
   "cell_type": "code",
   "execution_count": 8,
   "id": "9c0c34eb-22ba-4167-9b69-9c415df544ae",
   "metadata": {},
   "outputs": [
    {
     "name": "stdout",
     "output_type": "stream",
     "text": [
      "Dataset FashionMNIST\n",
      "    Number of datapoints: 60000\n",
      "    Root location: data\n",
      "    Split: Train\n",
      "    StandardTransform\n",
      "Transform: ToTensor()\n",
      "Target transform: Lambda()\n"
     ]
    }
   ],
   "source": [
    "print(ds)"
   ]
  },
  {
   "cell_type": "code",
   "execution_count": 11,
   "id": "c0738dbf-55e9-4df2-921c-f005988850b2",
   "metadata": {},
   "outputs": [],
   "source": [
    "# ToTensor 将 PIL 图像或 NumPy ndarray 转换为 FloatTensor。并在 [0.， 1.] 范围内缩放图像的像素强度值\n",
    "# Lambda 转换应用任何用户定义的 lambda 函数。在这里，我们定义一个函数 将整数转换为单热编码张量。 \n",
    "# 它首先创建一个大小为 10（我们数据集中的标签数量）的零张量，然后调用 scatter_，它分配了一个 value=1 在标签 y 给出的索引上。\n",
    "target_transform = Lambda(lambda y: torch.zeros(\n",
    "    10, dtype=torch.float).scatter_(dim=0, index=torch.tensor(y), value=1))"
   ]
  },
  {
   "cell_type": "code",
   "execution_count": null,
   "id": "4ade5176-c9c2-4c15-9000-87e2aa4ce00d",
   "metadata": {},
   "outputs": [],
   "source": []
  }
 ],
 "metadata": {
  "kernelspec": {
   "display_name": "Python [conda env:base] *",
   "language": "python",
   "name": "conda-base-py"
  },
  "language_info": {
   "codemirror_mode": {
    "name": "ipython",
    "version": 3
   },
   "file_extension": ".py",
   "mimetype": "text/x-python",
   "name": "python",
   "nbconvert_exporter": "python",
   "pygments_lexer": "ipython3",
   "version": "3.12.7"
  }
 },
 "nbformat": 4,
 "nbformat_minor": 5
}
